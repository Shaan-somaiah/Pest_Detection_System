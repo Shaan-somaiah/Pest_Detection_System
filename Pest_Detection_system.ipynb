{
 "cells": [
  {
   "cell_type": "markdown",
   "id": "aa75e036",
   "metadata": {},
   "source": [
    "## Initial Setup"
   ]
  },
  {
   "cell_type": "code",
   "execution_count": 101,
   "id": "84376c79",
   "metadata": {},
   "outputs": [
    {
     "name": "stdout",
     "output_type": "stream",
     "text": [
      "Found 169 files belonging to 2 classes.\n",
      "Using 153 files for training.\n",
      "Found 169 files belonging to 2 classes.\n",
      "Using 16 files for validation.\n",
      "['Pest', 'Rice']\n"
     ]
    }
   ],
   "source": [
    "import matplotlib.pyplot as plt\n",
    "import numpy as np\n",
    "import PIL\n",
    "import tensorflow as tf\n",
    "\n",
    "from tensorflow import keras\n",
    "from tensorflow.keras import layers\n",
    "from tensorflow.keras.models import Sequential\n",
    "\n",
    "import pathlib\n",
    "\n",
    "data_dir = pathlib.Path(\"./customdata\")\n",
    "image_count = len(list(data_dir.glob('*/*.jpg')))\n",
    "\n",
    "batch_size = 1\n",
    "img_height = 180\n",
    "img_width = 180\n",
    "\n",
    "train_ds = tf.keras.utils.image_dataset_from_directory(\n",
    "  data_dir,\n",
    "  validation_split=0.1,\n",
    "  subset=\"training\",\n",
    "  seed=123,\n",
    "  image_size=(img_height, img_width),\n",
    "  batch_size=batch_size)\n",
    "\n",
    "val_ds = tf.keras.utils.image_dataset_from_directory(\n",
    "  data_dir,\n",
    "  validation_split=0.1,\n",
    "  subset=\"validation\",\n",
    "  seed=123,\n",
    "  image_size=(img_height, img_width),\n",
    "  batch_size=batch_size)\n",
    "\n",
    "class_names = train_ds.class_names\n",
    "print(class_names)\n",
    "\n",
    "AUTOTUNE = tf.data.AUTOTUNE\n",
    "train_ds = train_ds.cache().shuffle(1000).prefetch(buffer_size=AUTOTUNE)\n",
    "val_ds = val_ds.cache().prefetch(buffer_size=AUTOTUNE)"
   ]
  },
  {
   "cell_type": "markdown",
   "id": "73deebbd",
   "metadata": {},
   "source": [
    "## Model "
   ]
  },
  {
   "cell_type": "code",
   "execution_count": 102,
   "id": "530efc6d",
   "metadata": {
    "scrolled": true
   },
   "outputs": [
    {
     "name": "stdout",
     "output_type": "stream",
     "text": [
      "Model: \"sequential_41\"\n",
      "_________________________________________________________________\n",
      " Layer (type)                Output Shape              Param #   \n",
      "=================================================================\n",
      " rescaling_25 (Rescaling)    (None, 180, 180, 3)       0         \n",
      "                                                                 \n",
      " conv2d_73 (Conv2D)          (None, 180, 180, 16)      448       \n",
      "                                                                 \n",
      " max_pooling2d_73 (MaxPoolin  (None, 90, 90, 16)       0         \n",
      " g2D)                                                            \n",
      "                                                                 \n",
      " conv2d_74 (Conv2D)          (None, 90, 90, 32)        4640      \n",
      "                                                                 \n",
      " max_pooling2d_74 (MaxPoolin  (None, 45, 45, 32)       0         \n",
      " g2D)                                                            \n",
      "                                                                 \n",
      " conv2d_75 (Conv2D)          (None, 45, 45, 64)        18496     \n",
      "                                                                 \n",
      " max_pooling2d_75 (MaxPoolin  (None, 22, 22, 64)       0         \n",
      " g2D)                                                            \n",
      "                                                                 \n",
      " flatten_25 (Flatten)        (None, 30976)             0         \n",
      "                                                                 \n",
      " dense_50 (Dense)            (None, 128)               3965056   \n",
      "                                                                 \n",
      " dense_51 (Dense)            (None, 2)                 258       \n",
      "                                                                 \n",
      "=================================================================\n",
      "Total params: 3,988,898\n",
      "Trainable params: 3,988,898\n",
      "Non-trainable params: 0\n",
      "_________________________________________________________________\n",
      "Epoch 1/12\n",
      "153/153 [==============================] - 8s 45ms/step - loss: 0.7251 - accuracy: 0.6863 - val_loss: 0.6424 - val_accuracy: 0.5625\n",
      "Epoch 2/12\n",
      "153/153 [==============================] - 7s 43ms/step - loss: 0.8126 - accuracy: 0.6863 - val_loss: 0.6101 - val_accuracy: 0.6250\n",
      "Epoch 3/12\n",
      "153/153 [==============================] - 7s 43ms/step - loss: 0.4399 - accuracy: 0.8105 - val_loss: 0.6059 - val_accuracy: 0.7500\n",
      "Epoch 4/12\n",
      "153/153 [==============================] - 7s 43ms/step - loss: 0.4565 - accuracy: 0.8366 - val_loss: 0.5048 - val_accuracy: 0.8125\n",
      "Epoch 5/12\n",
      "153/153 [==============================] - 7s 43ms/step - loss: 0.4773 - accuracy: 0.7974 - val_loss: 1.0238 - val_accuracy: 0.8125\n",
      "Epoch 6/12\n",
      "153/153 [==============================] - 7s 43ms/step - loss: 0.2136 - accuracy: 0.9346 - val_loss: 0.9246 - val_accuracy: 0.8125\n",
      "Epoch 7/12\n",
      "153/153 [==============================] - 7s 43ms/step - loss: 0.1412 - accuracy: 0.9346 - val_loss: 0.9229 - val_accuracy: 0.8125\n",
      "Epoch 8/12\n",
      "153/153 [==============================] - 7s 44ms/step - loss: 0.1067 - accuracy: 0.9739 - val_loss: 1.4285 - val_accuracy: 0.8125\n",
      "Epoch 9/12\n",
      "153/153 [==============================] - 7s 43ms/step - loss: 0.0490 - accuracy: 0.9804 - val_loss: 2.3460 - val_accuracy: 0.8125\n",
      "Epoch 10/12\n",
      "153/153 [==============================] - 7s 43ms/step - loss: 0.0794 - accuracy: 0.9673 - val_loss: 2.7746 - val_accuracy: 0.8125\n",
      "Epoch 11/12\n",
      "153/153 [==============================] - 7s 43ms/step - loss: 0.1816 - accuracy: 0.9477 - val_loss: 2.0588 - val_accuracy: 0.7500\n",
      "Epoch 12/12\n",
      "153/153 [==============================] - 6s 42ms/step - loss: 0.1771 - accuracy: 0.9412 - val_loss: 1.5412 - val_accuracy: 0.8125\n"
     ]
    }
   ],
   "source": [
    "data_augmentation = tf.keras.Sequential([\n",
    "  layers.RandomFlip(\"horizontal_and_vertical\"),\n",
    "  layers.RandomRotation(0.2),\n",
    "])\n",
    "img = tf.cast(tf.expand_dims(img, 0), tf.float32)\n",
    "model = Sequential([\n",
    "  layers.Rescaling(1./255, input_shape=(img_height, img_width, 3)),\n",
    "  data_augmentation,\n",
    "  layers.Conv2D(16, 3, padding='same', activation='relu'),\n",
    "  layers.MaxPooling2D(),\n",
    "  layers.Conv2D(32, 3, padding='same', activation='relu'),\n",
    "  layers.MaxPooling2D(),\n",
    "  layers.Conv2D(64, 3, padding='same', activation='relu'),\n",
    "  layers.MaxPooling2D(),\n",
    "  layers.Flatten(),\n",
    "  layers.Dense(128, activation='relu'),\n",
    "  layers.Dense(2)\n",
    "])\n",
    "\n",
    "model.compile(optimizer='adam',loss=tf.keras.losses.SparseCategoricalCrossentropy(from_logits=True),metrics=['accuracy'])\n",
    "\n",
    "model.summary()\n",
    "history = model.fit(train_ds,validation_data=val_ds,epochs=12)"
   ]
  },
  {
   "cell_type": "markdown",
   "id": "727292b2",
   "metadata": {},
   "source": [
    "# Testing a random image from Google"
   ]
  },
  {
   "cell_type": "code",
   "execution_count": 105,
   "id": "c5fd3cf3",
   "metadata": {},
   "outputs": [
    {
     "name": "stdout",
     "output_type": "stream",
     "text": [
      "1/1 [==============================] - 0s 18ms/step\n",
      "This image most likely belongs to Pest with a 84.24 percent confidence.\n"
     ]
    }
   ],
   "source": [
    "test_image_path = pathlib.Path(\"./03422.jpg\")\n",
    "img = tf.keras.utils.load_img(test_image_path, target_size=(img_height, img_width))\n",
    "img_array = tf.keras.utils.img_to_array(img)\n",
    "img_array = tf.expand_dims(img_array, 0)\n",
    "predictions = model.predict(img_array)\n",
    "score = tf.nn.softmax(predictions[0])\n",
    "print(\"This image most likely belongs to {} with a {:.2f} percent confidence.\".format(class_names[np.argmax(score)], 100 * np.max(score)))"
   ]
  },
  {
   "cell_type": "markdown",
   "id": "523eec64",
   "metadata": {},
   "source": [
    "# Plot"
   ]
  },
  {
   "cell_type": "code",
   "execution_count": 103,
   "id": "5ca34bcf",
   "metadata": {},
   "outputs": [
    {
     "name": "stdout",
     "output_type": "stream",
     "text": [
      "16/16 - 0s - loss: 1.5412 - accuracy: 0.8125 - 96ms/epoch - 6ms/step\n"
     ]
    },
    {
     "data": {
      "image/png": "[encoded data removed]",
      "text/plain": [
       "<Figure size 432x288 with 1 Axes>"
      ]
     },
     "metadata": {
      "needs_background": "light"
     },
     "output_type": "display_data"
    }
   ],
   "source": [
    "plt.plot(history.history['accuracy'], label='accuracy')\n",
    "plt.plot(history.history['val_accuracy'], label = 'val_accuracy')\n",
    "plt.xlabel('Epoch')\n",
    "plt.ylabel('Accuracy')\n",
    "plt.ylim([0.1, 1])\n",
    "plt.legend(loc='lower right')\n",
    "\n",
    "test_loss, test_acc = model.evaluate(val_ds, verbose=2)"
   ]
  },
  {
   "cell_type": "code",
   "execution_count": null,
   "id": "3d7c5d31",
   "metadata": {},
   "outputs": [],
   "source": []
  }
 ],
 "metadata": {
  "kernelspec": {
   "display_name": "Python 3 (ipykernel)",
   "language": "python",
   "name": "python3"
  },
  "language_info": {
   "codemirror_mode": {
    "name": "ipython",
    "version": 3
   },
   "file_extension": ".py",
   "mimetype": "text/x-python",
   "name": "python",
   "nbconvert_exporter": "python",
   "pygments_lexer": "ipython3",
   "version": "3.9.7"
  }
 },
 "nbformat": 4,
 "nbformat_minor": 5
}
